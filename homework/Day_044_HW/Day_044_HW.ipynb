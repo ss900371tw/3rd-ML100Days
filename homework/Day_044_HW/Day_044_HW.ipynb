{
 "cells": [
  {
   "cell_type": "markdown",
   "metadata": {},
   "source": [
    "## [作業重點]\n",
    "確保你了解隨機森林模型中每個超參數的意義，並觀察調整超參數對結果的影響"
   ]
  },
  {
   "cell_type": "markdown",
   "metadata": {},
   "source": [
    "## 作業\n",
    "\n",
    "1. 試著調整 RandomForestClassifier(...) 中的參數，並觀察是否會改變結果？\n",
    "2. 改用其他資料集 (boston, wine)，並與回歸模型與決策樹的結果進行比較"
   ]
  },
  {
   "cell_type": "code",
   "execution_count": 1,
   "metadata": {},
   "outputs": [
    {
     "name": "stdout",
     "output_type": "stream",
     "text": [
      "Data Shape =  (178, 13)\n",
      "Data Type =  float64\n",
      "Feature Shape =  13\n",
      "Kind of Targer =  3\n"
     ]
    }
   ],
   "source": [
    "import numpy as np\n",
    "from sklearn import datasets, metrics\n",
    "from sklearn.ensemble import RandomForestClassifier\n",
    "from sklearn.model_selection import train_test_split\n",
    "# 讀取資料集\n",
    "wine = datasets.load_wine()\n",
    "X = wine.data\n",
    "Y = wine.target\n",
    "Y_Name = wine.target_names\n",
    "Feature_Name = wine.feature_names\n",
    "print(\"Data Shape = \", X.shape)\n",
    "print(\"Data Type = \", X.dtype)\n",
    "print(\"Feature Shape = \", len(Feature_Name))\n",
    "print(\"Kind of Targer = \", len(np.unique(Y)))"
   ]
  },
  {
   "cell_type": "code",
   "execution_count": 2,
   "metadata": {},
   "outputs": [
    {
     "name": "stdout",
     "output_type": "stream",
     "text": [
      "Accuracy:  1.0\n",
      "Feature importance:  [0.10522267 0.04388145 0.00736707 0.03774007 0.03877502 0.02896698\n",
      " 0.17093999 0.0107452  0.02536787 0.12332113 0.09774258 0.08374794\n",
      " 0.22618203]\n"
     ]
    }
   ],
   "source": [
    "# 切分訓練集/測試集\n",
    "x_train, x_test, y_train, y_test = train_test_split(X, Y, test_size=0.25, random_state=4)\n",
    "# 建立模型 (使用 20 顆樹，每棵樹的最大深度為 4)\n",
    "clf = RandomForestClassifier(n_estimators=20, max_depth=4)\n",
    "clf.fit(x_train, y_train)\n",
    "y_pred = clf.predict(x_test)\n",
    "\n",
    "acc = metrics.accuracy_score(y_test, y_pred)\n",
    "print(\"Accuracy: \", acc)\n",
    "print(\"Feature importance: \", clf.feature_importances_)\n"
   ]
  },
  {
   "cell_type": "code",
   "execution_count": 3,
   "metadata": {},
   "outputs": [
    {
     "name": "stdout",
     "output_type": "stream",
     "text": [
      "Accuracy:  0.9777777777777777\n",
      "Feature importance:  [0.12584002 0.03001419 0.01709057 0.03659128 0.0375233  0.04661957\n",
      " 0.1429817  0.00883425 0.02339324 0.17674557 0.07105359 0.13151691\n",
      " 0.15179581]\n"
     ]
    }
   ],
   "source": [
    "# 建立模型 (使用 500 顆樹，每棵樹的最大深度為 10)\n",
    "clf_100 = RandomForestClassifier(n_estimators=500, max_depth=10)\n",
    "clf_100.fit(x_train, y_train)\n",
    "y_pred = clf_100.predict(x_test)\n",
    "\n",
    "acc = metrics.accuracy_score(y_test, y_pred)\n",
    "print(\"Accuracy: \", acc)\n",
    "print(\"Feature importance: \", clf_100.feature_importances_)"
   ]
  },
  {
   "cell_type": "code",
   "execution_count": 4,
   "metadata": {},
   "outputs": [
    {
     "name": "stdout",
     "output_type": "stream",
     "text": [
      "Accuracy:  0.9777777777777777\n",
      "Feature importance:  [0.12624123 0.03035853 0.01386739 0.03417561 0.03414148 0.05233839\n",
      " 0.13570359 0.01139005 0.02271255 0.17000419 0.07982081 0.11615308\n",
      " 0.1730931 ]\n"
     ]
    }
   ],
   "source": [
    "# 建立模型 (使用 10000 顆樹，每棵樹的最大深度為 50)\n",
    "clf_100 = RandomForestClassifier(n_estimators=10000, max_depth=50)\n",
    "clf_100.fit(x_train, y_train)\n",
    "y_pred = clf_100.predict(x_test)\n",
    "\n",
    "acc = metrics.accuracy_score(y_test, y_pred)\n",
    "print(\"Accuracy: \", acc)\n",
    "print(\"Feature importance: \", clf_100.feature_importances_)"
   ]
  },
  {
   "cell_type": "code",
   "execution_count": null,
   "metadata": {},
   "outputs": [],
   "source": []
  }
 ],
 "metadata": {
  "kernelspec": {
   "display_name": "Python 3",
   "language": "python",
   "name": "python3"
  },
  "language_info": {
   "codemirror_mode": {
    "name": "ipython",
    "version": 3
   },
   "file_extension": ".py",
   "mimetype": "text/x-python",
   "name": "python",
   "nbconvert_exporter": "python",
   "pygments_lexer": "ipython3",
   "version": "3.7.1"
  }
 },
 "nbformat": 4,
 "nbformat_minor": 2
}
